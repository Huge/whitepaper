{
  "nbformat": 4,
  "nbformat_minor": 0,
  "metadata": {
    "colab": {
      "name": "nalezení duplikátu konstantně inkrementovaných řad.ipynb",
      "provenance": [],
      "include_colab_link": true
    },
    "kernelspec": {
      "name": "python3",
      "display_name": "Python 3"
    }
  },
  "cells": [
    {
      "cell_type": "markdown",
      "metadata": {
        "id": "view-in-github",
        "colab_type": "text"
      },
      "source": [
        "<a href=\"https://colab.research.google.com/github/Huge/whitepaper/blob/master/nalezen%C3%AD_duplik%C3%A1tu_konstantn%C4%9B_inkrementovan%C3%BDch_%C5%99ad.ipynb\" target=\"_parent\"><img src=\"https://colab.research.google.com/assets/colab-badge.svg\" alt=\"Open In Colab\"/></a>"
      ]
    },
    {
      "cell_type": "markdown",
      "metadata": {
        "id": "SCcmRvyyiTwr",
        "colab_type": "text"
      },
      "source": [
        "# Základní implementace nalezení duplikátu konstantně inkrementovaných řad."
      ]
    },
    {
      "cell_type": "code",
      "metadata": {
        "id": "3v4t6beGjohm",
        "colab_type": "code",
        "outputId": "8f6eef7c-36de-471a-f827-d9ba67a706b2",
        "colab": {
          "base_uri": "https://localhost:8080/",
          "height": 132
        }
      },
      "source": [
        "#@title Vstupní hodnoty generující pár sekvencí\n",
        "starting_number = 15 #@param {type:\"integer\"}\n",
        "smaller_step = 3 #@param {type:\"integer\"}\n",
        "bigger_step = 17 #@param {type:\"integer\"}\n",
        "upper_bound = 10 000 000 #@param {type:\"integer\"} # is left out, currently!.!"
      ],
      "execution_count": 0,
      "outputs": [
        {
          "output_type": "error",
          "ename": "SyntaxError",
          "evalue": "ignored",
          "traceback": [
            "\u001b[0;36m  File \u001b[0;32m\"<ipython-input-4-c1a2e049812b>\"\u001b[0;36m, line \u001b[0;32m4\u001b[0m\n\u001b[0;31m    upper_bound = 10 000 000 #@param {type:\"integer\"} # is left out, currently!.!\u001b[0m\n\u001b[0m                       ^\u001b[0m\n\u001b[0;31mSyntaxError\u001b[0m\u001b[0;31m:\u001b[0m invalid syntax\n"
          ]
        }
      ]
    },
    {
      "cell_type": "code",
      "metadata": {
        "id": "hbZvOTDvjKak",
        "colab_type": "code",
        "colab": {}
      },
      "source": [
        ""
      ],
      "execution_count": 0,
      "outputs": []
    },
    {
      "cell_type": "code",
      "metadata": {
        "id": "lZ-kvK1JmyeW",
        "colab_type": "code",
        "colab": {}
      },
      "source": [
        "# Well, the below would be split to be more readable,.."
      ],
      "execution_count": 0,
      "outputs": []
    },
    {
      "cell_type": "code",
      "metadata": {
        "id": "kbD-RjQikcf2",
        "colab_type": "code",
        "outputId": "d9e77840-f21e-4f0e-fb47-58b3e4a6f8c7",
        "colab": {
          "base_uri": "https://localhost:8080/",
          "height": 187
        }
      },
      "source": [
        "set(range(starting_number + smaller_step, upper_bound, smaller_step)).intersection( set(range(starting_number + bigger_step, upper_bound, bigger_step)) )  # Find intersection of the sequences as sets, trivially."
      ],
      "execution_count": 0,
      "outputs": [
        {
          "output_type": "error",
          "ename": "NameError",
          "evalue": "ignored",
          "traceback": [
            "\u001b[0;31m---------------------------------------------------------------------------\u001b[0m",
            "\u001b[0;31mNameError\u001b[0m                                 Traceback (most recent call last)",
            "\u001b[0;32m<ipython-input-6-c0d01c6887a8>\u001b[0m in \u001b[0;36m<module>\u001b[0;34m()\u001b[0m\n\u001b[0;32m----> 1\u001b[0;31m \u001b[0mset\u001b[0m\u001b[0;34m(\u001b[0m\u001b[0mrange\u001b[0m\u001b[0;34m(\u001b[0m\u001b[0mstarting_number\u001b[0m \u001b[0;34m+\u001b[0m \u001b[0msmaller_step\u001b[0m\u001b[0;34m,\u001b[0m \u001b[0mupper_bound\u001b[0m\u001b[0;34m,\u001b[0m \u001b[0msmaller_step\u001b[0m\u001b[0;34m)\u001b[0m\u001b[0;34m)\u001b[0m\u001b[0;34m.\u001b[0m\u001b[0mintersection\u001b[0m\u001b[0;34m(\u001b[0m \u001b[0mset\u001b[0m\u001b[0;34m(\u001b[0m\u001b[0mrange\u001b[0m\u001b[0;34m(\u001b[0m\u001b[0mstarting_number\u001b[0m \u001b[0;34m+\u001b[0m \u001b[0mbigger_step\u001b[0m\u001b[0;34m,\u001b[0m \u001b[0mupper_bound\u001b[0m\u001b[0;34m,\u001b[0m \u001b[0mbigger_step\u001b[0m\u001b[0;34m)\u001b[0m\u001b[0;34m)\u001b[0m \u001b[0;34m)\u001b[0m  \u001b[0;31m# Find intersection of the sequences as sets, trivially.\u001b[0m\u001b[0;34m\u001b[0m\u001b[0;34m\u001b[0m\u001b[0m\n\u001b[0m",
            "\u001b[0;31mNameError\u001b[0m: name 'starting_number' is not defined"
          ]
        }
      ]
    },
    {
      "cell_type": "code",
      "metadata": {
        "id": "fLCNkhkxo_yb",
        "colab_type": "code",
        "colab": {}
      },
      "source": [
        ""
      ],
      "execution_count": 0,
      "outputs": []
    }
  ]
}